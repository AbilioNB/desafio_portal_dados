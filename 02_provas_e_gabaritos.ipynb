{
 "cells": [
  {
   "cell_type": "code",
   "execution_count": 55,
   "metadata": {},
   "outputs": [],
   "source": [
    "import pandas as pd\n",
    "import unicodedata"
   ]
  },
  {
   "cell_type": "markdown",
   "metadata": {},
   "source": [
    "Foi usada apenas uma biblioteca a mais para realizar a remoção da acentuação das colunas."
   ]
  },
  {
   "cell_type": "code",
   "execution_count": 56,
   "metadata": {},
   "outputs": [],
   "source": [
    "\n",
    "def remover_espacos_acentos(texto):\n",
    "    \"\"\"\n",
    "    Remove espaços e acentos de uma string e substitui os espaços por underscores.\n",
    "\n",
    "    Argumentos:\n",
    "    texto (str): Texto a ser processado.\n",
    "\n",
    "    Retorna:\n",
    "    str: Texto sem espaços e acentos, com espaços substituídos por underscores.\n",
    "    \"\"\"\n",
    "    if isinstance(texto, str):\n",
    "        texto = texto.strip().replace(' ', '_')\n",
    "        texto = ''.join(caracter for caracter in unicodedata.normalize('NFKD', texto) if not unicodedata.combining(caracter))\n",
    "    return texto\n",
    "\n",
    "def renomear_coluna(df):\n",
    "    \"\"\"\n",
    "    Renomeia as colunas do DataFrame com base nos últimos valores da última linha.\n",
    "\n",
    "    Argumentos:\n",
    "    df (DataFrame): DataFrame a ser processado.\n",
    "\n",
    "    Retorna:\n",
    "    DataFrame: DataFrame com as colunas renomeadas.\n",
    "    \"\"\"\n",
    "    df = df.copy()\n",
    "    ultimos_valores = df.iloc[-1]\n",
    "    for coluna, valor in ultimos_valores.items():\n",
    "        if coluna != 'ESTUDANTE':\n",
    "            novo_nome = f\"QT_{coluna}_{remover_espacos_acentos(valor)}\"\n",
    "            df = df.rename(columns={coluna: novo_nome})\n",
    "    return df\n",
    "\n",
    "def gerar_pontuacao_simulado(df):\n",
    "    \"\"\"\n",
    "    Calcula a pontuação total dos alunos em um simulado.\n",
    "\n",
    "    Argumentos:\n",
    "    df (DataFrame): DataFrame contendo as respostas dos alunos.\n",
    "\n",
    "    Retorna:\n",
    "    DataFrame: DataFrame com a pontuação total de cada aluno.\n",
    "    \"\"\"\n",
    "    df = df.copy()\n",
    "    colunas_inteiras = df.select_dtypes(include='int32').columns\n",
    "    df['QTD_ACERTOS'] = df[colunas_inteiras].sum(axis=1)\n",
    "    return df\n",
    "\n",
    "def calcular_acertos_temas(df):\n",
    "    \"\"\"\n",
    "    Calcula a quantidade de acertos por subgrupo de disciplinas.\n",
    "\n",
    "    Argumentos:\n",
    "    df (DataFrame): DataFrame contendo as respostas dos alunos.\n",
    "\n",
    "    Retorna:\n",
    "    DataFrame: DataFrame com a quantidade de acertos por subgrupo de disciplinas.\n",
    "    \"\"\"\n",
    "    df = df.copy()\n",
    "    terminacao_subgrupo = {\n",
    "        'QUIMICA': 'ACERTOS_CN',\n",
    "        'FISICA': 'ACERTOS_CN',\n",
    "        'BIOLOGIA': 'ACERTOS_CN',\n",
    "        'HISTORIA':'ACERTOS_CH',\n",
    "        'GEOGRAFIA':'ACERTOS_CH',\n",
    "        'FILOSOFIA':'ACERTOS_CH',\n",
    "        'SOCIOLOGIA':'ACERTOS_CH',\n",
    "        'LITERATURA': 'ACERTOS_LG',\n",
    "        'INTERTEXTO': 'ACERTOS_LG',\n",
    "        'PORTUGUES': 'ACERTOS_LG',\n",
    "        'INGLES':'ACERTOS_LG',\n",
    "        'MATEMATICA': 'ACERTOS_MT'\n",
    "    }\n",
    "    subgrupos_somas = {}\n",
    "    for coluna in df.columns:\n",
    "        for terminacao, subgrupo in terminacao_subgrupo.items():\n",
    "            if coluna.endswith(terminacao):\n",
    "                if subgrupo not in subgrupos_somas:\n",
    "                    subgrupos_somas[subgrupo] = df[coluna]\n",
    "                else:\n",
    "                    subgrupos_somas[subgrupo] += df[coluna]\n",
    "                break\n",
    "    df_somas = pd.DataFrame(subgrupos_somas)\n",
    "    return df_somas\n",
    "\n",
    "def remover_espacos_colunas(df):\n",
    "    \"\"\"\n",
    "    Remove espaços nas colunas do DataFrame.\n",
    "\n",
    "    Argumentos:\n",
    "    df (DataFrame): DataFrame a ser processado.\n",
    "\n",
    "    Retorna:\n",
    "    DataFrame: DataFrame com as colunas sem espaços.\n",
    "    \"\"\"\n",
    "    for coluna in df.columns:\n",
    "        if isinstance(coluna, str):  \n",
    "            novo_nome = coluna.strip().replace(' ', '')  \n",
    "            df.rename(columns={coluna: novo_nome}, inplace=True)  \n",
    "    return df\n",
    "\n",
    "def extrair_abas_excel(nome_arquivo):\n",
    "    \"\"\"\n",
    "    Extrai as abas de um arquivo Excel e remove espaços nas colunas de cada aba.\n",
    "\n",
    "    Argumentos:\n",
    "    nome_arquivo (str): Nome do arquivo Excel.\n",
    "\n",
    "    Retorna:\n",
    "    dict: Dicionário onde as chaves são os nomes das abas e os valores são os DataFrames correspondentes.\n",
    "    \"\"\"\n",
    "    xls = pd.ExcelFile(nome_arquivo)\n",
    "    abas_dict = {}\n",
    "    for aba_nome in xls.sheet_names:\n",
    "        df = xls.parse(aba_nome)\n",
    "        aba_nome = aba_nome.strip()\n",
    "        abas_dict[aba_nome] = remover_espacos_colunas(df)\n",
    "    return abas_dict\n",
    "\n",
    "def verificar_respostas(df):\n",
    "    \"\"\"\n",
    "    Compara as respostas dos alunos com o gabarito e atribui 1 para respostas corretas e 0 para respostas erradas.\n",
    "\n",
    "    Argumentos:\n",
    "    df (DataFrame): DataFrame contendo as respostas dos alunos e o gabarito.\n",
    "\n",
    "    Retorna:\n",
    "    DataFrame: DataFrame com 1 para respostas corretas e 0 para respostas erradas.\n",
    "    \"\"\"\n",
    "    df = df.copy()\n",
    "    gabarito = df.iloc[-1]\n",
    "    for coluna in df.columns:\n",
    "        if coluna != \"ESTUDANTE\":\n",
    "            df[coluna] = (df[coluna] == gabarito[coluna]).astype(int)\n",
    "    return df.dropna()"
   ]
  },
  {
   "cell_type": "markdown",
   "metadata": {},
   "source": [
    "# Correção dos simulados"
   ]
  },
  {
   "cell_type": "markdown",
   "metadata": {},
   "source": [
    "São carregados os simulados e cruzado com a leitura de seus respectivos gabaritos afim de criar uma base que seja possível analisar a quantidade de acertos e também por área do ENEM (CH,CN,Matématica e Lingaugens)"
   ]
  },
  {
   "cell_type": "code",
   "execution_count": 57,
   "metadata": {},
   "outputs": [],
   "source": [
    "gabaritos_simulado = extrair_abas_excel('data/raw/Gabaritos_AMPs_2023.xlsx')"
   ]
  },
  {
   "cell_type": "markdown",
   "metadata": {},
   "source": [
    "## Simulado AMP 1.2"
   ]
  },
  {
   "cell_type": "markdown",
   "metadata": {},
   "source": [
    "### Carregamento do simulado"
   ]
  },
  {
   "cell_type": "code",
   "execution_count": 58,
   "metadata": {},
   "outputs": [],
   "source": [
    "simulado_1 = pd.read_excel('data/raw/Respostas_AMP_1.2_2023.xlsx')"
   ]
  },
  {
   "cell_type": "markdown",
   "metadata": {},
   "source": [
    "### Unindo o simulado com o gabarito correspodente"
   ]
  },
  {
   "cell_type": "code",
   "execution_count": 59,
   "metadata": {},
   "outputs": [],
   "source": [
    "simulado_1_completo = simulado_1.merge(gabaritos_simulado['AMP_1.2'],how='outer')"
   ]
  },
  {
   "cell_type": "markdown",
   "metadata": {},
   "source": [
    "### Renomeando as colunas \n",
    "\n",
    "É adicionado a qual disciplina a questão pertence para assim facilitar o agrupamento posteriormente"
   ]
  },
  {
   "cell_type": "code",
   "execution_count": 60,
   "metadata": {},
   "outputs": [],
   "source": [
    "simulado_1_parcial = renomear_coluna(simulado_1_completo)"
   ]
  },
  {
   "cell_type": "markdown",
   "metadata": {},
   "source": [
    "### Verificação das respostas \n",
    "É verificado se a alternativa marcada foi de fato a correta para  a questão, se sim é adicionado 1 se não 0."
   ]
  },
  {
   "cell_type": "code",
   "execution_count": 61,
   "metadata": {},
   "outputs": [],
   "source": [
    "simulado_1_parcial = verificar_respostas(simulado_1_parcial.loc[:simulado_1_parcial.shape[0]-2])\n"
   ]
  },
  {
   "cell_type": "markdown",
   "metadata": {},
   "source": [
    "### Categorização das respostas por área\n",
    "\n",
    "Por fim é gerado o resultado por área de conhecimento"
   ]
  },
  {
   "cell_type": "code",
   "execution_count": 62,
   "metadata": {},
   "outputs": [],
   "source": [
    "simulado_1_final = pd.concat([gerar_pontuacao_simulado(simulado_1_parcial), calcular_acertos_temas(simulado_1_parcial)],axis=1)"
   ]
  },
  {
   "cell_type": "markdown",
   "metadata": {},
   "source": [
    "## Simulado AMP 2.1"
   ]
  },
  {
   "cell_type": "code",
   "execution_count": 63,
   "metadata": {},
   "outputs": [],
   "source": [
    "simulado_2 = pd.read_excel('data/raw/Respostas_AMP_2.1_2023.xlsx')"
   ]
  },
  {
   "cell_type": "code",
   "execution_count": 64,
   "metadata": {},
   "outputs": [],
   "source": [
    "simulado_2.drop('Tipo de Prova',axis=1,inplace=True)"
   ]
  },
  {
   "cell_type": "code",
   "execution_count": 65,
   "metadata": {},
   "outputs": [],
   "source": [
    "simulado_2_completo = simulado_2.merge(gabaritos_simulado['AMP_2.1'],how='outer')"
   ]
  },
  {
   "cell_type": "code",
   "execution_count": 66,
   "metadata": {},
   "outputs": [],
   "source": [
    "simulado_2_parcial = renomear_coluna(simulado_2_completo)"
   ]
  },
  {
   "cell_type": "code",
   "execution_count": 67,
   "metadata": {},
   "outputs": [],
   "source": [
    "simulado_2_parcial = verificar_respostas(simulado_2_parcial.loc[:simulado_2_parcial.shape[0]-2])\n"
   ]
  },
  {
   "cell_type": "code",
   "execution_count": 68,
   "metadata": {},
   "outputs": [],
   "source": [
    "simulado_2_final = pd.concat([gerar_pontuacao_simulado(simulado_2_parcial), calcular_acertos_temas(simulado_2_parcial)],axis=1)"
   ]
  },
  {
   "cell_type": "markdown",
   "metadata": {},
   "source": [
    "## Simulado AMP 2.2"
   ]
  },
  {
   "cell_type": "code",
   "execution_count": 70,
   "metadata": {},
   "outputs": [],
   "source": [
    "simulado_3 = pd.read_excel('data/raw/Respostas_AMP_2.2_2023.xlsx')"
   ]
  },
  {
   "cell_type": "code",
   "execution_count": 71,
   "metadata": {},
   "outputs": [],
   "source": [
    "simulado_3.drop('Tipo de Prova',axis=1,inplace=True)"
   ]
  },
  {
   "cell_type": "code",
   "execution_count": 72,
   "metadata": {},
   "outputs": [],
   "source": [
    "simulado_3_completo = simulado_3.merge(gabaritos_simulado['AMP_2.2'],how='outer')"
   ]
  },
  {
   "cell_type": "code",
   "execution_count": 73,
   "metadata": {},
   "outputs": [],
   "source": [
    "simulado_3_parcial = renomear_coluna(simulado_3_completo)"
   ]
  },
  {
   "cell_type": "code",
   "execution_count": 74,
   "metadata": {},
   "outputs": [],
   "source": [
    "simulado_3_parcial = verificar_respostas(simulado_3_parcial.loc[:simulado_3_parcial.shape[0]-2])\n"
   ]
  },
  {
   "cell_type": "code",
   "execution_count": 75,
   "metadata": {},
   "outputs": [],
   "source": [
    "simulado_3_final = pd.concat([gerar_pontuacao_simulado(simulado_3_parcial), calcular_acertos_temas(simulado_3_parcial)],axis=1)"
   ]
  },
  {
   "cell_type": "markdown",
   "metadata": {},
   "source": [
    "## Exportando as bases para o BI"
   ]
  },
  {
   "cell_type": "code",
   "execution_count": 76,
   "metadata": {},
   "outputs": [],
   "source": [
    "simulado_1_final.to_csv('data/serving/simulado_final_1.2.csv',index=False)"
   ]
  },
  {
   "cell_type": "code",
   "execution_count": 77,
   "metadata": {},
   "outputs": [],
   "source": [
    "simulado_2_final.to_csv('data/serving/simulado_final_2.1.csv',index=False)"
   ]
  },
  {
   "cell_type": "code",
   "execution_count": 78,
   "metadata": {},
   "outputs": [],
   "source": [
    "simulado_3_final.to_csv('data/serving/simulado_final_2.2.csv',index=False)"
   ]
  }
 ],
 "metadata": {
  "kernelspec": {
   "display_name": "base",
   "language": "python",
   "name": "python3"
  },
  "language_info": {
   "codemirror_mode": {
    "name": "ipython",
    "version": 3
   },
   "file_extension": ".py",
   "mimetype": "text/x-python",
   "name": "python",
   "nbconvert_exporter": "python",
   "pygments_lexer": "ipython3",
   "version": "3.11.7"
  }
 },
 "nbformat": 4,
 "nbformat_minor": 2
}
