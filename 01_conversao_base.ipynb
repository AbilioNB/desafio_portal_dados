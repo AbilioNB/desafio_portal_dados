{
 "cells": [
  {
   "cell_type": "code",
   "execution_count": 1,
   "metadata": {},
   "outputs": [],
   "source": [
    "import pandas as pd"
   ]
  },
  {
   "cell_type": "code",
   "execution_count": 2,
   "metadata": {},
   "outputs": [],
   "source": [
    "def remover_espacos_colunas(df):\n",
    "    for coluna in df.columns:\n",
    "        if isinstance(coluna, str):  \n",
    "            novo_nome = coluna.strip().replace(' ', '')  \n",
    "            df.rename(columns={coluna: novo_nome}, inplace=True)  \n",
    "    return df"
   ]
  },
  {
   "cell_type": "code",
   "execution_count": 3,
   "metadata": {},
   "outputs": [],
   "source": [
    "def lista_colunas_unicas(dicionario_dataframes):\n",
    "    colunas_unicas = set()\n",
    "    for df_nome, df in dicionario_dataframes.items():\n",
    "        colunas_unicas.update([col.replace('.1', '').strip() for col in df.columns])\n",
    "    colunas_unicas.discard(\"ESTUDANTE\")\n",
    "    return list(colunas_unicas)\n",
    "def extrair_elementos_para_dict(lista):\n",
    "    dict_resultante = {}\n",
    "    for idx, dic in enumerate(lista, start=1):\n",
    "        dict_resultante[idx] = dic\n",
    "    return dict_resultante\n",
    "def extrair_abas_excel(nome_arquivo):\n",
    "    xls = pd.ExcelFile(nome_arquivo)\n",
    "    abas_dict = {}\n",
    "    for aba_nome in xls.sheet_names:\n",
    "        df = xls.parse(aba_nome)\n",
    "        aba_nome = aba_nome.strip()\n",
    "        abas_dict[aba_nome] = remover_espacos_colunas(df)\n",
    "    return abas_dict\n",
    "def gerar_alunos(lista_de_listas):\n",
    "    alunos_unicos = set()\n",
    "    for lista in lista_de_listas:\n",
    "        alunos_unicos.update(lista)\n",
    "    return list(alunos_unicos)"
   ]
  },
  {
   "cell_type": "code",
   "execution_count": 4,
   "metadata": {},
   "outputs": [],
   "source": [
    "def calcular_participacao_aluno(df, flag_atraso):\n",
    "    df_alvo = pd.DataFrame(df.iloc[:, 1:16]==flag_atraso)\n",
    "    return df_alvo.replace({True: 1, False: 0}).sum(axis=1)\n",
    "def calcular_participacao_materia(df, flag_atraso):\n",
    "    df_alvo = pd.DataFrame(df.iloc[0:, 1:]==flag_atraso).sort_index(axis=1)\n",
    "    return df_alvo.replace({True: 1, False: 0}).sum(axis=0).to_dict()\n",
    "    "
   ]
  },
  {
   "cell_type": "code",
   "execution_count": null,
   "metadata": {},
   "outputs": [],
   "source": []
  },
  {
   "cell_type": "markdown",
   "metadata": {},
   "source": [
    "# Extração e processamento da frequencia das turmas "
   ]
  },
  {
   "cell_type": "code",
   "execution_count": 5,
   "metadata": {},
   "outputs": [],
   "source": [
    "path_frequencia_marco_2023 = 'data/raw/Frequencia_Marco_2023.xlsx'  \n",
    "turmas_frequencia_marco_2023 = extrair_abas_excel(path_frequencia_marco_2023)\n",
    " "
   ]
  },
  {
   "cell_type": "code",
   "execution_count": 8,
   "metadata": {},
   "outputs": [],
   "source": [
    "DISCIPLINAS = lista_colunas_unicas(turmas_frequencia_marco_2023)"
   ]
  },
  {
   "cell_type": "code",
   "execution_count": 9,
   "metadata": {},
   "outputs": [
    {
     "data": {
      "text/plain": [
       "['PORTUGUÊS',\n",
       " 'LITERATURA',\n",
       " 'GEOGRAFIA',\n",
       " 'QUÍMICA',\n",
       " 'HISTÓRIA',\n",
       " 'SOCIOLOGIA',\n",
       " 'INTERTEXTO',\n",
       " 'MATEMÁTICA',\n",
       " 'REDAÇÃO',\n",
       " 'FÍSICA',\n",
       " 'BIOLOGIA',\n",
       " 'FILOSOFIA']"
      ]
     },
     "execution_count": 9,
     "metadata": {},
     "output_type": "execute_result"
    }
   ],
   "source": [
    "DISCIPLINAS"
   ]
  },
  {
   "cell_type": "markdown",
   "metadata": {},
   "source": [
    "## Gerando panorama das disciplinas"
   ]
  },
  {
   "cell_type": "markdown",
   "metadata": {},
   "source": [
    "### Buscando todas as disciplinas do mês"
   ]
  },
  {
   "cell_type": "code",
   "execution_count": 10,
   "metadata": {},
   "outputs": [],
   "source": [
    "salas = ['A','B']\n",
    "semanas = [1,2,3]\n",
    "arquivos = list(turmas_frequencia_marco_2023.keys())\n",
    "resultado_disciplinas = {}\n",
    "cod = 1"
   ]
  },
  {
   "cell_type": "code",
   "execution_count": 11,
   "metadata": {},
   "outputs": [],
   "source": [
    "dados_disciplinas = {}\n",
    "for semana in semanas:\n",
    "    for sala in salas:\n",
    "        chave = f\"{semana:02d}_{sala}\"\n",
    "        arquivo = f'Sala {sala} - Semana {semana}'\n",
    "        dados_disciplinas[chave] = {'sala': sala, 'semana': semana, 'arquivo': arquivo}"
   ]
  },
  {
   "cell_type": "code",
   "execution_count": 13,
   "metadata": {},
   "outputs": [
    {
     "data": {
      "text/plain": [
       "{'01_A': {'sala': 'A', 'semana': 1, 'arquivo': 'Sala A - Semana 1'},\n",
       " '01_B': {'sala': 'B', 'semana': 1, 'arquivo': 'Sala B - Semana 1'},\n",
       " '02_A': {'sala': 'A', 'semana': 2, 'arquivo': 'Sala A - Semana 2'},\n",
       " '02_B': {'sala': 'B', 'semana': 2, 'arquivo': 'Sala B - Semana 2'},\n",
       " '03_A': {'sala': 'A', 'semana': 3, 'arquivo': 'Sala A - Semana 3'},\n",
       " '03_B': {'sala': 'B', 'semana': 3, 'arquivo': 'Sala B - Semana 3'}}"
      ]
     },
     "execution_count": 13,
     "metadata": {},
     "output_type": "execute_result"
    }
   ],
   "source": [
    "dados_disciplinas"
   ]
  },
  {
   "cell_type": "code",
   "execution_count": 14,
   "metadata": {},
   "outputs": [],
   "source": [
    "resultados = []"
   ]
  },
  {
   "cell_type": "code",
   "execution_count": 15,
   "metadata": {},
   "outputs": [],
   "source": [
    "for id in list(dados_disciplinas.keys()):\n",
    "    arquivo_base =  dados_disciplinas[id]['arquivo']\n",
    "    for disciplina in DISCIPLINAS:\n",
    "        discp_semana = {}  # Crie um novo dicionário para cada disciplina\n",
    "        disciplina_extra = disciplina + '.1'\n",
    "        disciplinas_semana = list(turmas_frequencia_marco_2023[arquivo_base].columns)\n",
    "        if disciplina in disciplinas_semana:\n",
    "            qtd_aulas = 1\n",
    "            atraso15 = calcular_participacao_materia(turmas_frequencia_marco_2023[arquivo_base], '0*')[disciplina]\n",
    "            atraso30 = calcular_participacao_materia(turmas_frequencia_marco_2023[arquivo_base], '0**')[disciplina]\n",
    "            faltas = calcular_participacao_materia(turmas_frequencia_marco_2023[arquivo_base], 0)[disciplina]\n",
    "            presencas = calcular_participacao_materia(turmas_frequencia_marco_2023[arquivo_base], 1)[disciplina]\n",
    "            if disciplina_extra in disciplinas_semana:\n",
    "                qtd_aulas = qtd_aulas + 1\n",
    "                atraso15 = (atraso15 + calcular_participacao_materia(turmas_frequencia_marco_2023[arquivo_base], '0*')[disciplina_extra])\n",
    "                atraso30 = (atraso30 + calcular_participacao_materia(turmas_frequencia_marco_2023[arquivo_base], '0**')[disciplina_extra])\n",
    "                faltas = (faltas + calcular_participacao_materia(turmas_frequencia_marco_2023[arquivo_base], 0)[disciplina_extra])\n",
    "                presencas = (presencas + calcular_participacao_materia(turmas_frequencia_marco_2023[arquivo_base], 1)[disciplina_extra])         \n",
    "        else:\n",
    "            qtd_aulas = 0\n",
    "            atraso15 = 0\n",
    "            atraso30 = 0\n",
    "            faltas = 0\n",
    "            presencas = 0\n",
    "        discp_semana[cod] = {\n",
    "            'ID': id,\n",
    "            'SEMANA': dados_disciplinas[id]['semana'],\n",
    "            'SALA': dados_disciplinas[id]['sala'],\n",
    "            'DISCIPLINA': disciplina,\n",
    "            'QTD_AULAS_SEMANA': qtd_aulas,\n",
    "            'PRESENÇAS': presencas,\n",
    "            'FALTAS': faltas,\n",
    "            'ATRASO15': atraso15,\n",
    "            'ATRASO30': atraso30\n",
    "        }\n",
    "        resultados.append(discp_semana)\n",
    "        cod += 1"
   ]
  },
  {
   "cell_type": "code",
   "execution_count": 16,
   "metadata": {},
   "outputs": [],
   "source": [
    "tam_base = len(resultados)\n",
    "base_final = {}\n",
    "for num in range(1,tam_base+1):\n",
    "    base_final[num] = extrair_elementos_para_dict(resultados)[num][num]\n",
    "base_disciplinas = pd.DataFrame(base_final).T    \n",
    "    "
   ]
  },
  {
   "cell_type": "code",
   "execution_count": 18,
   "metadata": {},
   "outputs": [
    {
     "data": {
      "text/html": [
       "<div>\n",
       "<style scoped>\n",
       "    .dataframe tbody tr th:only-of-type {\n",
       "        vertical-align: middle;\n",
       "    }\n",
       "\n",
       "    .dataframe tbody tr th {\n",
       "        vertical-align: top;\n",
       "    }\n",
       "\n",
       "    .dataframe thead th {\n",
       "        text-align: right;\n",
       "    }\n",
       "</style>\n",
       "<table border=\"1\" class=\"dataframe\">\n",
       "  <thead>\n",
       "    <tr style=\"text-align: right;\">\n",
       "      <th></th>\n",
       "      <th>ID</th>\n",
       "      <th>SEMANA</th>\n",
       "      <th>SALA</th>\n",
       "      <th>DISCIPLINA</th>\n",
       "      <th>QTD_AULAS_SEMANA</th>\n",
       "      <th>PRESENÇAS</th>\n",
       "      <th>FALTAS</th>\n",
       "      <th>ATRASO15</th>\n",
       "      <th>ATRASO30</th>\n",
       "    </tr>\n",
       "  </thead>\n",
       "  <tbody>\n",
       "    <tr>\n",
       "      <th>1</th>\n",
       "      <td>01_A</td>\n",
       "      <td>1</td>\n",
       "      <td>A</td>\n",
       "      <td>PORTUGUÊS</td>\n",
       "      <td>1</td>\n",
       "      <td>10</td>\n",
       "      <td>38</td>\n",
       "      <td>17</td>\n",
       "      <td>1</td>\n",
       "    </tr>\n",
       "    <tr>\n",
       "      <th>2</th>\n",
       "      <td>01_A</td>\n",
       "      <td>1</td>\n",
       "      <td>A</td>\n",
       "      <td>LITERATURA</td>\n",
       "      <td>1</td>\n",
       "      <td>9</td>\n",
       "      <td>63</td>\n",
       "      <td>0</td>\n",
       "      <td>1</td>\n",
       "    </tr>\n",
       "    <tr>\n",
       "      <th>3</th>\n",
       "      <td>01_A</td>\n",
       "      <td>1</td>\n",
       "      <td>A</td>\n",
       "      <td>GEOGRAFIA</td>\n",
       "      <td>1</td>\n",
       "      <td>12</td>\n",
       "      <td>47</td>\n",
       "      <td>5</td>\n",
       "      <td>9</td>\n",
       "    </tr>\n",
       "    <tr>\n",
       "      <th>4</th>\n",
       "      <td>01_A</td>\n",
       "      <td>1</td>\n",
       "      <td>A</td>\n",
       "      <td>QUÍMICA</td>\n",
       "      <td>1</td>\n",
       "      <td>10</td>\n",
       "      <td>63</td>\n",
       "      <td>0</td>\n",
       "      <td>0</td>\n",
       "    </tr>\n",
       "    <tr>\n",
       "      <th>5</th>\n",
       "      <td>01_A</td>\n",
       "      <td>1</td>\n",
       "      <td>A</td>\n",
       "      <td>HISTÓRIA</td>\n",
       "      <td>1</td>\n",
       "      <td>6</td>\n",
       "      <td>67</td>\n",
       "      <td>0</td>\n",
       "      <td>0</td>\n",
       "    </tr>\n",
       "    <tr>\n",
       "      <th>6</th>\n",
       "      <td>01_A</td>\n",
       "      <td>1</td>\n",
       "      <td>A</td>\n",
       "      <td>SOCIOLOGIA</td>\n",
       "      <td>1</td>\n",
       "      <td>4</td>\n",
       "      <td>69</td>\n",
       "      <td>0</td>\n",
       "      <td>0</td>\n",
       "    </tr>\n",
       "    <tr>\n",
       "      <th>7</th>\n",
       "      <td>01_A</td>\n",
       "      <td>1</td>\n",
       "      <td>A</td>\n",
       "      <td>INTERTEXTO</td>\n",
       "      <td>1</td>\n",
       "      <td>21</td>\n",
       "      <td>50</td>\n",
       "      <td>2</td>\n",
       "      <td>0</td>\n",
       "    </tr>\n",
       "    <tr>\n",
       "      <th>8</th>\n",
       "      <td>01_A</td>\n",
       "      <td>1</td>\n",
       "      <td>A</td>\n",
       "      <td>MATEMÁTICA</td>\n",
       "      <td>2</td>\n",
       "      <td>25</td>\n",
       "      <td>89</td>\n",
       "      <td>18</td>\n",
       "      <td>14</td>\n",
       "    </tr>\n",
       "    <tr>\n",
       "      <th>9</th>\n",
       "      <td>01_A</td>\n",
       "      <td>1</td>\n",
       "      <td>A</td>\n",
       "      <td>REDAÇÃO</td>\n",
       "      <td>1</td>\n",
       "      <td>21</td>\n",
       "      <td>35</td>\n",
       "      <td>6</td>\n",
       "      <td>11</td>\n",
       "    </tr>\n",
       "    <tr>\n",
       "      <th>10</th>\n",
       "      <td>01_A</td>\n",
       "      <td>1</td>\n",
       "      <td>A</td>\n",
       "      <td>FÍSICA</td>\n",
       "      <td>1</td>\n",
       "      <td>10</td>\n",
       "      <td>40</td>\n",
       "      <td>17</td>\n",
       "      <td>6</td>\n",
       "    </tr>\n",
       "    <tr>\n",
       "      <th>11</th>\n",
       "      <td>01_A</td>\n",
       "      <td>1</td>\n",
       "      <td>A</td>\n",
       "      <td>BIOLOGIA</td>\n",
       "      <td>1</td>\n",
       "      <td>11</td>\n",
       "      <td>61</td>\n",
       "      <td>1</td>\n",
       "      <td>0</td>\n",
       "    </tr>\n",
       "    <tr>\n",
       "      <th>12</th>\n",
       "      <td>01_A</td>\n",
       "      <td>1</td>\n",
       "      <td>A</td>\n",
       "      <td>FILOSOFIA</td>\n",
       "      <td>0</td>\n",
       "      <td>0</td>\n",
       "      <td>0</td>\n",
       "      <td>0</td>\n",
       "      <td>0</td>\n",
       "    </tr>\n",
       "  </tbody>\n",
       "</table>\n",
       "</div>"
      ],
      "text/plain": [
       "      ID SEMANA SALA  DISCIPLINA QTD_AULAS_SEMANA PRESENÇAS FALTAS ATRASO15  \\\n",
       "1   01_A      1    A   PORTUGUÊS                1        10     38       17   \n",
       "2   01_A      1    A  LITERATURA                1         9     63        0   \n",
       "3   01_A      1    A   GEOGRAFIA                1        12     47        5   \n",
       "4   01_A      1    A     QUÍMICA                1        10     63        0   \n",
       "5   01_A      1    A    HISTÓRIA                1         6     67        0   \n",
       "6   01_A      1    A  SOCIOLOGIA                1         4     69        0   \n",
       "7   01_A      1    A  INTERTEXTO                1        21     50        2   \n",
       "8   01_A      1    A  MATEMÁTICA                2        25     89       18   \n",
       "9   01_A      1    A     REDAÇÃO                1        21     35        6   \n",
       "10  01_A      1    A      FÍSICA                1        10     40       17   \n",
       "11  01_A      1    A    BIOLOGIA                1        11     61        1   \n",
       "12  01_A      1    A   FILOSOFIA                0         0      0        0   \n",
       "\n",
       "   ATRASO30  \n",
       "1         1  \n",
       "2         1  \n",
       "3         9  \n",
       "4         0  \n",
       "5         0  \n",
       "6         0  \n",
       "7         0  \n",
       "8        14  \n",
       "9        11  \n",
       "10        6  \n",
       "11        0  \n",
       "12        0  "
      ]
     },
     "execution_count": 18,
     "metadata": {},
     "output_type": "execute_result"
    }
   ],
   "source": [
    "base_disciplinas.query(\"ID=='01_A'\")"
   ]
  },
  {
   "cell_type": "code",
   "execution_count": null,
   "metadata": {},
   "outputs": [],
   "source": [
    "# base_disciplinas.to_csv('situacao_disciplinas.csv',index=False)"
   ]
  },
  {
   "cell_type": "code",
   "execution_count": null,
   "metadata": {},
   "outputs": [],
   "source": []
  },
  {
   "cell_type": "markdown",
   "metadata": {},
   "source": [
    "## Gerando base de alunos"
   ]
  },
  {
   "cell_type": "code",
   "execution_count": 23,
   "metadata": {},
   "outputs": [],
   "source": [
    "alunos_sala_a = []\n",
    "alunos_sala_b = []   \n",
    "for semana in range(1, 4):\n",
    "    alunos_sala_a.append(list(turmas_frequencia_marco_2023[f'Sala A - Semana {semana}']['ESTUDANTE']))\n",
    "    alunos_sala_b.append(list(turmas_frequencia_marco_2023[f'Sala B - Semana {semana}']['ESTUDANTE']))\n",
    "    \n",
    "    "
   ]
  },
  {
   "cell_type": "code",
   "execution_count": 24,
   "metadata": {},
   "outputs": [],
   "source": [
    "alunos_sala_a = gerar_alunos(alunos_sala_a)\n",
    "alunos_sala_b = gerar_alunos(alunos_sala_b)"
   ]
  },
  {
   "cell_type": "code",
   "execution_count": 26,
   "metadata": {},
   "outputs": [],
   "source": [
    "def gerar_presenca_alunos(turma,alunos_turma):\n",
    "    base_alunos_sala_parcial = {}\n",
    "    id = 1 \n",
    "    for aluno in alunos_turma:\n",
    "        for semana in range(1, 4):\n",
    "            try:\n",
    "                df_semana = turmas_frequencia_marco_2023[f'Sala {turma} - Semana {semana}'].query(f\"ESTUDANTE == '{aluno}'\")\n",
    "                base_alunos_sala_parcial[id] = {\n",
    "                    'ESTUDANTE': aluno,\n",
    "                    'TURMA': turma,\n",
    "                    'SEMANA': semana,\n",
    "                    'PRESENCA': int(calcular_participacao_aluno(df_semana, 1)), \n",
    "                    'FALTAS': int(calcular_participacao_aluno(df_semana, 0)),\n",
    "                    'ATRASOS15': int(calcular_participacao_aluno(df_semana, '0*')),\n",
    "                    'ATRASOS30': int(calcular_participacao_aluno(df_semana, '0**'))\n",
    "                }\n",
    "            except:\n",
    "                base_alunos_sala_parcial[id] = {\n",
    "                    'ESTUDANTE': aluno,\n",
    "                    'TURMA': turma,\n",
    "                    'SEMANA': semana,\n",
    "                    'PRESENCA': -1,\n",
    "                    'FALTAS': -1,\n",
    "                    'ATRASOS15': -1,\n",
    "                    'ATRASOS30': -1\n",
    "                }\n",
    "            id += 1\n",
    "    return pd.DataFrame(base_alunos_sala_parcial).T"
   ]
  },
  {
   "cell_type": "code",
   "execution_count": 32,
   "metadata": {},
   "outputs": [],
   "source": [
    "gerar_presenca_alunos('A',alunos_sala_a).to_csv('alunos_sala_a.csv',index=False)"
   ]
  },
  {
   "cell_type": "code",
   "execution_count": 33,
   "metadata": {},
   "outputs": [],
   "source": [
    "gerar_presenca_alunos('B',alunos_sala_b).to_csv('alunos_sala_b.csv',index=False)"
   ]
  },
  {
   "cell_type": "code",
   "execution_count": null,
   "metadata": {},
   "outputs": [],
   "source": []
  }
 ],
 "metadata": {
  "kernelspec": {
   "display_name": "base",
   "language": "python",
   "name": "python3"
  },
  "language_info": {
   "codemirror_mode": {
    "name": "ipython",
    "version": 3
   },
   "file_extension": ".py",
   "mimetype": "text/x-python",
   "name": "python",
   "nbconvert_exporter": "python",
   "pygments_lexer": "ipython3",
   "version": "3.11.7"
  }
 },
 "nbformat": 4,
 "nbformat_minor": 2
}
