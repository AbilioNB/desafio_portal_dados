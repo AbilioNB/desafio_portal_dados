{
 "cells": [
  {
   "cell_type": "code",
   "execution_count": 25,
   "metadata": {},
   "outputs": [],
   "source": [
    "import pandas as pd "
   ]
  },
  {
   "cell_type": "markdown",
   "metadata": {},
   "source": [
    "# Comparação simulado EXATAS"
   ]
  },
  {
   "cell_type": "markdown",
   "metadata": {},
   "source": [
    "A última etapa que foi planjeada foi realizar a comparaçãp dos simulados de exatas, já que não teve outro de humanas para que fosse realizado a comparação."
   ]
  },
  {
   "cell_type": "markdown",
   "metadata": {},
   "source": [
    "### Carregamento das bases"
   ]
  },
  {
   "cell_type": "code",
   "execution_count": 26,
   "metadata": {},
   "outputs": [],
   "source": [
    "simulado1 = pd.read_csv('data/serving/simulado_final_1.2.csv')\n",
    "simulado3 = pd.read_csv('data/serving/simulado_final_2.2.csv')"
   ]
  },
  {
   "cell_type": "markdown",
   "metadata": {},
   "source": [
    "### Seleção das colunas alvo"
   ]
  },
  {
   "cell_type": "code",
   "execution_count": 27,
   "metadata": {},
   "outputs": [],
   "source": [
    "simulado3 = simulado3[['ESTUDANTE','QTD_ACERTOS','ACERTOS_CN','ACERTOS_MT']]\n",
    "simulado1 = simulado1[['ESTUDANTE','QTD_ACERTOS','ACERTOS_CN','ACERTOS_MT']]"
   ]
  },
  {
   "cell_type": "markdown",
   "metadata": {},
   "source": [
    "### Seleção dos estudantes que participaram de ambos os simulados"
   ]
  },
  {
   "cell_type": "code",
   "execution_count": 28,
   "metadata": {},
   "outputs": [],
   "source": [
    "estudantes_simulado = list(simulado1.ESTUDANTE.unique())+list(simulado3.ESTUDANTE.unique())\n",
    "estudantes_simulado = set(estudantes_simulado)"
   ]
  },
  {
   "cell_type": "code",
   "execution_count": 29,
   "metadata": {},
   "outputs": [],
   "source": [
    "df_estudantes = pd.DataFrame(estudantes_simulado)\n",
    "df_estudantes.columns = ['ESTUDANTE']"
   ]
  },
  {
   "cell_type": "markdown",
   "metadata": {},
   "source": [
    "### Unindo os datasets com base na lista de estudantes únicos"
   ]
  },
  {
   "cell_type": "code",
   "execution_count": 31,
   "metadata": {},
   "outputs": [],
   "source": [
    "df_estudantes = df_estudantes.merge(simulado1,how='left')\n",
    "df_estudantes.columns = ['ESTUDANTE', 'QTD_ACERTOS_EXATAS_1', 'ACERTOS_CN_EXATAS_1', 'ACERTOS_MT_EXATAS_1']"
   ]
  },
  {
   "cell_type": "code",
   "execution_count": 32,
   "metadata": {},
   "outputs": [],
   "source": [
    "df_estudantes = df_estudantes.merge(simulado3,how='left',left_on='ESTUDANTE',right_on='ESTUDANTE')"
   ]
  },
  {
   "cell_type": "code",
   "execution_count": 34,
   "metadata": {},
   "outputs": [],
   "source": [
    "df_estudantes.columns = ['ESTUDANTE', 'QTD_ACERTOS_EXATAS_1', 'ACERTOS_CN_EXATAS_1',\n",
    "       'ACERTOS_MT_EXATAS_1', 'QTD_ACERTOS_EXATAS_2', 'ACERTOS_CN_EXATAS_2', 'ACERTOS_MT_EXATAS_2']"
   ]
  },
  {
   "cell_type": "markdown",
   "metadata": {},
   "source": [
    "### Removendo os alunos que não realizaram ambos os simulados"
   ]
  },
  {
   "cell_type": "code",
   "execution_count": 42,
   "metadata": {},
   "outputs": [],
   "source": [
    "compativo_simulado_exatas = df_estudantes.dropna()\n"
   ]
  },
  {
   "cell_type": "markdown",
   "metadata": {},
   "source": [
    "### Definindo como inteiro as colunas de acertos"
   ]
  },
  {
   "cell_type": "code",
   "execution_count": 45,
   "metadata": {},
   "outputs": [
    {
     "name": "stderr",
     "output_type": "stream",
     "text": [
      "C:\\Users\\abili\\AppData\\Local\\Temp\\ipykernel_26692\\1917912426.py:5: SettingWithCopyWarning: \n",
      "A value is trying to be set on a copy of a slice from a DataFrame.\n",
      "Try using .loc[row_indexer,col_indexer] = value instead\n",
      "\n",
      "See the caveats in the documentation: https://pandas.pydata.org/pandas-docs/stable/user_guide/indexing.html#returning-a-view-versus-a-copy\n",
      "  compativo_simulado_exatas[colunas_para_converter] = compativo_simulado_exatas[colunas_para_converter].astype(int)\n"
     ]
    }
   ],
   "source": [
    "colunas_acertos = ['QTD_ACERTOS_EXATAS_1', 'ACERTOS_CN_EXATAS_1', 'ACERTOS_MT_EXATAS_1',\n",
    "                          'QTD_ACERTOS_EXATAS_2', 'ACERTOS_CN_EXATAS_2', 'ACERTOS_MT_EXATAS_2']\n",
    "\n",
    "compativo_simulado_exatas[colunas_acertos] = compativo_simulado_exatas[colunas_acertos].astype(int)"
   ]
  },
  {
   "cell_type": "markdown",
   "metadata": {},
   "source": [
    "### Exportando a base de dados"
   ]
  },
  {
   "cell_type": "code",
   "execution_count": 47,
   "metadata": {},
   "outputs": [],
   "source": [
    "# compativo_simulado_exatas.to_csv('comparativo_simulado_exatas.csv', index=False)"
   ]
  },
  {
   "cell_type": "code",
   "execution_count": null,
   "metadata": {},
   "outputs": [],
   "source": []
  }
 ],
 "metadata": {
  "kernelspec": {
   "display_name": "base",
   "language": "python",
   "name": "python3"
  },
  "language_info": {
   "codemirror_mode": {
    "name": "ipython",
    "version": 3
   },
   "file_extension": ".py",
   "mimetype": "text/x-python",
   "name": "python",
   "nbconvert_exporter": "python",
   "pygments_lexer": "ipython3",
   "version": "3.11.7"
  }
 },
 "nbformat": 4,
 "nbformat_minor": 2
}
