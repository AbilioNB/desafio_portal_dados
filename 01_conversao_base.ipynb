{
 "cells": [
  {
   "cell_type": "code",
   "execution_count": 1,
   "metadata": {},
   "outputs": [],
   "source": [
    "import pandas as pd"
   ]
  },
  {
   "cell_type": "code",
   "execution_count": 2,
   "metadata": {},
   "outputs": [],
   "source": [
    "def remover_espacos_colunas(df):\n",
    "    \"\"\"\n",
    "    Remove espaços em branco dos nomes das colunas de um DataFrame.\n",
    "    \n",
    "    Argumentos:\n",
    "    df (DataFrame): DataFrame do pandas.\n",
    "    \n",
    "    Retorna:\n",
    "    DataFrame: DataFrame com os espaços em branco removidos dos nomes das colunas.\n",
    "    \"\"\"\n",
    "    for coluna in df.columns:\n",
    "        if isinstance(coluna, str):  \n",
    "            novo_nome = coluna.strip().replace(' ', '')  \n",
    "            df.rename(columns={coluna: novo_nome}, inplace=True)  \n",
    "    return df\n",
    "def lista_colunas_unicas(dicionario_dataframes):\n",
    "    \"\"\"\n",
    "    Retorna uma lista de colunas únicas presentes nos DataFrames do dicionário, excluindo 'ESTUDANTE'.\n",
    "    \n",
    "    Argumentos:\n",
    "    dicionario_dataframes (dict): Dicionário contendo DataFrames do pandas.\n",
    "\n",
    "    Retorna:\n",
    "    list: Lista de colunas únicas.\n",
    "    \"\"\"\n",
    "    colunas_unicas = set()\n",
    "    for df_nome, df in dicionario_dataframes.items():\n",
    "        colunas_unicas.update([col.replace('.1', '').strip() for col in df.columns])\n",
    "    colunas_unicas.discard(\"ESTUDANTE\")\n",
    "    return list(colunas_unicas)\n",
    "\n",
    "def extrair_elementos_para_dict(lista):\n",
    "    \"\"\"\n",
    "    Extrai os elementos de uma lista e os insere em um dicionário com índices numerados a partir de 1.\n",
    "    \n",
    "    Argumentos:\n",
    "    lista (list): Lista de elementos.\n",
    "\n",
    "    Retorna:\n",
    "    dict: Dicionário contendo os elementos numerados.\n",
    "    \"\"\"\n",
    "    dict_resultante = {}\n",
    "    for idx, dic in enumerate(lista, start=1):\n",
    "        dict_resultante[idx] = dic\n",
    "    return dict_resultante\n",
    "\n",
    "def extrair_abas_excel(nome_arquivo):\n",
    "    \"\"\"\n",
    "    Extrai abas de um arquivo Excel para um dicionário de DataFrames, removendo espaços em branco dos nomes das colunas.\n",
    "    \n",
    "    Argumentos:\n",
    "    nome_arquivo (str): Nome do arquivo Excel.\n",
    "\n",
    "    Retorna:\n",
    "    dict: Dicionário contendo abas do Excel como DataFrames do pandas.\n",
    "    \"\"\"\n",
    "    xls = pd.ExcelFile(nome_arquivo)\n",
    "    abas_dict = {}\n",
    "    for aba_nome in xls.sheet_names:\n",
    "        df = xls.parse(aba_nome)\n",
    "        aba_nome = aba_nome.strip()\n",
    "        abas_dict[aba_nome] = remover_espacos_colunas(df)\n",
    "    return abas_dict\n",
    "\n",
    "def gerar_alunos(lista_de_listas):\n",
    "    \"\"\"\n",
    "    Gera uma lista de alunos únicos a partir de uma lista de listas de nomes de alunos.\n",
    "    \n",
    "    Argumentos:\n",
    "    lista_de_listas (list): Lista de listas contendo nomes de alunos.\n",
    "\n",
    "    Retorna:\n",
    "    list: Lista de alunos únicos.\n",
    "    \"\"\"\n",
    "    alunos_unicos = set()\n",
    "    for lista in lista_de_listas:\n",
    "        alunos_unicos.update(lista)\n",
    "    return list(alunos_unicos)\n"
   ]
  },
  {
   "cell_type": "code",
   "execution_count": 3,
   "metadata": {},
   "outputs": [],
   "source": [
    "def calcular_participacao_aluno(df, flag_atraso):\n",
    "    \"\"\"\n",
    "    Calcula a participação de um aluno em aulas com um determinado tipo de atraso em um DataFrame.\n",
    "\n",
    "    Argumentos:\n",
    "    df (DataFrame): DataFrame contendo os registros de participação do aluno.\n",
    "    flag_atraso (str): Flag que indica o tipo de atraso a ser considerado.\n",
    "\n",
    "    Retorna:\n",
    "    Series: Série contendo a participação do aluno em aulas com o tipo de atraso especificado.\n",
    "    \"\"\"\n",
    "    df_alvo = pd.DataFrame(df.iloc[:, 1:16] == flag_atraso)\n",
    "    return df_alvo.replace({True: 1, False: 0}).sum(axis=1)\n",
    "\n",
    "def calcular_participacao_materia(df, flag_atraso):\n",
    "    \"\"\"\n",
    "    Calcula a participação dos alunos em aulas com um determinado tipo de atraso em um DataFrame de matéria.\n",
    "\n",
    "    Argumentos:\n",
    "    df (DataFrame): DataFrame contendo os registros de participação dos alunos na matéria.\n",
    "    flag_atraso (str): Flag que indica o tipo de atraso a ser considerado.\n",
    "\n",
    "    Retorna:\n",
    "    dict: Dicionário contendo o número de participações dos alunos em aulas com o tipo de atraso especificado para cada matéria.\n",
    "    \"\"\"\n",
    "    df_alvo = pd.DataFrame(df.iloc[:, 1:] == flag_atraso).sort_index(axis=1)\n",
    "    return df_alvo.replace({True: 1, False: 0}).sum(axis=0).to_dict()\n"
   ]
  },
  {
   "cell_type": "code",
   "execution_count": 4,
   "metadata": {},
   "outputs": [],
   "source": [
    "def gerar_presenca_alunos(turma,alunos_turma):\n",
    "    \"\"\"\n",
    "    Gera um DataFrame contendo a presença dos alunos em cada semana de uma determinada turma.\n",
    "\n",
    "    Argumentos:\n",
    "    turma (str): Identificador da turma.\n",
    "    alunos_turma (list): Lista de alunos da turma.\n",
    "\n",
    "    Retorna:\n",
    "    DataFrame: DataFrame contendo a presença dos alunos em cada semana da turma.\n",
    "    \"\"\"\n",
    "    base_alunos_sala_parcial = {}\n",
    "    id = 1 \n",
    "    for aluno in alunos_turma:\n",
    "        for semana in range(1, 4):\n",
    "            try:\n",
    "                df_semana = turmas_frequencia_marco_2023[f'Sala {turma} - Semana {semana}'].query(f\"ESTUDANTE == '{aluno}'\")\n",
    "                base_alunos_sala_parcial[id] = {\n",
    "                    'ESTUDANTE': aluno,\n",
    "                    'TURMA': turma,\n",
    "                    'SEMANA': semana,\n",
    "                    'PRESENCA': int(calcular_participacao_aluno(df_semana, 1)), \n",
    "                    'FALTAS': int(calcular_participacao_aluno(df_semana, 0)),\n",
    "                    'ATRASOS15': int(calcular_participacao_aluno(df_semana, '0*')),\n",
    "                    'ATRASOS30': int(calcular_participacao_aluno(df_semana, '0**'))\n",
    "                }\n",
    "            except:\n",
    "                base_alunos_sala_parcial[id] = {\n",
    "                    'ESTUDANTE': aluno,\n",
    "                    'TURMA': turma,\n",
    "                    'SEMANA': semana,\n",
    "                    'PRESENCA': -1,\n",
    "                    'FALTAS': -1,\n",
    "                    'ATRASOS15': -1,\n",
    "                    'ATRASOS30': -1\n",
    "                }\n",
    "            id += 1\n",
    "    return pd.DataFrame(base_alunos_sala_parcial).T"
   ]
  },
  {
   "cell_type": "markdown",
   "metadata": {},
   "source": [
    "# Extração e processamento da frequencia das turmas "
   ]
  },
  {
   "cell_type": "markdown",
   "metadata": {},
   "source": [
    "### Carregando todas as frequências e extraindo todas as disciplinas lecionadas no mês"
   ]
  },
  {
   "cell_type": "code",
   "execution_count": 5,
   "metadata": {},
   "outputs": [],
   "source": [
    "path_frequencia_marco_2023 = 'data/raw/Frequencia_Marco_2023.xlsx'  \n",
    "turmas_frequencia_marco_2023 = extrair_abas_excel(path_frequencia_marco_2023)\n",
    " "
   ]
  },
  {
   "cell_type": "code",
   "execution_count": 6,
   "metadata": {},
   "outputs": [],
   "source": [
    "DISCIPLINAS = lista_colunas_unicas(turmas_frequencia_marco_2023)"
   ]
  },
  {
   "cell_type": "markdown",
   "metadata": {},
   "source": [
    "## Gerando a base de disciplinas"
   ]
  },
  {
   "cell_type": "markdown",
   "metadata": {},
   "source": [
    "### Criando um dicionário de mapeamento para as semanas e turmas"
   ]
  },
  {
   "cell_type": "code",
   "execution_count": 7,
   "metadata": {},
   "outputs": [],
   "source": [
    "salas = ['A','B']\n",
    "semanas = [1,2,3]\n",
    "arquivos = list(turmas_frequencia_marco_2023.keys())\n",
    "resultado_disciplinas = {}\n",
    "cod = 1"
   ]
  },
  {
   "cell_type": "code",
   "execution_count": 8,
   "metadata": {},
   "outputs": [],
   "source": [
    "dados_disciplinas = {}\n",
    "for semana in semanas:\n",
    "    for sala in salas:\n",
    "        chave = f\"{semana:02d}_{sala}\"\n",
    "        arquivo = f'Sala {sala} - Semana {semana}'\n",
    "        dados_disciplinas[chave] = {'sala': sala, 'semana': semana, 'arquivo': arquivo}"
   ]
  },
  {
   "cell_type": "markdown",
   "metadata": {},
   "source": [
    "### Extração de todas as disciplinas\n",
    "\n",
    "Após o levantamento de todas as disciplinas no mês e feito a combinação dos datasets é feito a extração dos dados por disciplinas. Como nem todas as semanas possuem a mesma quantidade de aulas na semana nem que todas as matérias são lecionadas na semana é feito a adaptação para esse caso."
   ]
  },
  {
   "cell_type": "code",
   "execution_count": 9,
   "metadata": {},
   "outputs": [],
   "source": [
    "resultados = []"
   ]
  },
  {
   "cell_type": "code",
   "execution_count": 10,
   "metadata": {},
   "outputs": [],
   "source": [
    "for id in list(dados_disciplinas.keys()):\n",
    "    arquivo_base =  dados_disciplinas[id]['arquivo']\n",
    "    for disciplina in DISCIPLINAS:\n",
    "        discp_semana = {}  \n",
    "        disciplina_extra = disciplina + '.1'\n",
    "        disciplinas_semana = list(turmas_frequencia_marco_2023[arquivo_base].columns)\n",
    "        if disciplina in disciplinas_semana:\n",
    "            qtd_aulas = 1\n",
    "            atraso15 = calcular_participacao_materia(turmas_frequencia_marco_2023[arquivo_base], '0*')[disciplina]\n",
    "            atraso30 = calcular_participacao_materia(turmas_frequencia_marco_2023[arquivo_base], '0**')[disciplina]\n",
    "            faltas = calcular_participacao_materia(turmas_frequencia_marco_2023[arquivo_base], 0)[disciplina]\n",
    "            presencas = calcular_participacao_materia(turmas_frequencia_marco_2023[arquivo_base], 1)[disciplina]\n",
    "            if disciplina_extra in disciplinas_semana:\n",
    "                qtd_aulas = qtd_aulas + 1\n",
    "                atraso15 = (atraso15 + calcular_participacao_materia(turmas_frequencia_marco_2023[arquivo_base], '0*')[disciplina_extra])\n",
    "                atraso30 = (atraso30 + calcular_participacao_materia(turmas_frequencia_marco_2023[arquivo_base], '0**')[disciplina_extra])\n",
    "                faltas = (faltas + calcular_participacao_materia(turmas_frequencia_marco_2023[arquivo_base], 0)[disciplina_extra])\n",
    "                presencas = (presencas + calcular_participacao_materia(turmas_frequencia_marco_2023[arquivo_base], 1)[disciplina_extra])         \n",
    "        else:\n",
    "            qtd_aulas = 0\n",
    "            atraso15 = 0\n",
    "            atraso30 = 0\n",
    "            faltas = 0\n",
    "            presencas = 0\n",
    "        discp_semana[cod] = {\n",
    "            'ID': id,\n",
    "            'SEMANA': dados_disciplinas[id]['semana'],\n",
    "            'SALA': dados_disciplinas[id]['sala'],\n",
    "            'DISCIPLINA': disciplina,\n",
    "            'QTD_AULAS_SEMANA': qtd_aulas,\n",
    "            'PRESENÇAS': presencas,\n",
    "            'FALTAS': faltas,\n",
    "            'ATRASO15': atraso15,\n",
    "            'ATRASO30': atraso30\n",
    "        }\n",
    "        resultados.append(discp_semana)\n",
    "        cod += 1"
   ]
  },
  {
   "cell_type": "markdown",
   "metadata": {},
   "source": [
    "Por fim é criado uma base com esses resultados e exportado o csv para a parte do BI."
   ]
  },
  {
   "cell_type": "code",
   "execution_count": 11,
   "metadata": {},
   "outputs": [],
   "source": [
    "tam_base = len(resultados)\n",
    "base_final = {}\n",
    "for num in range(1,tam_base+1):\n",
    "    base_final[num] = extrair_elementos_para_dict(resultados)[num][num]\n",
    "base_disciplinas = pd.DataFrame(base_final).T    \n",
    "    "
   ]
  },
  {
   "cell_type": "code",
   "execution_count": 12,
   "metadata": {},
   "outputs": [],
   "source": [
    "# base_disciplinas.to_csv('situacao_disciplinas.csv',index=False)"
   ]
  },
  {
   "cell_type": "markdown",
   "metadata": {},
   "source": [
    "## Gerando base de alunos"
   ]
  },
  {
   "cell_type": "markdown",
   "metadata": {},
   "source": [
    "Aqui é gerado uma lista de alunos únicos de todo o mês realizando a diferenciação apenas por turma. Após esse processo é chamada uma função que irá gerar a situação de presença,falta e atrasos de cada estudante. Se aquele aluno não for encontrado a flag -1 será adicionada."
   ]
  },
  {
   "cell_type": "code",
   "execution_count": 13,
   "metadata": {},
   "outputs": [],
   "source": [
    "alunos_sala_a = []\n",
    "alunos_sala_b = []   \n",
    "for semana in range(1, 4):\n",
    "    alunos_sala_a.append(list(turmas_frequencia_marco_2023[f'Sala A - Semana {semana}']['ESTUDANTE']))\n",
    "    alunos_sala_b.append(list(turmas_frequencia_marco_2023[f'Sala B - Semana {semana}']['ESTUDANTE']))\n",
    "    \n",
    "    "
   ]
  },
  {
   "cell_type": "code",
   "execution_count": 14,
   "metadata": {},
   "outputs": [],
   "source": [
    "alunos_sala_a = gerar_alunos(alunos_sala_a)\n",
    "alunos_sala_b = gerar_alunos(alunos_sala_b)"
   ]
  },
  {
   "cell_type": "markdown",
   "metadata": {},
   "source": [
    "Exportando arquivos CSV"
   ]
  },
  {
   "cell_type": "code",
   "execution_count": 15,
   "metadata": {},
   "outputs": [],
   "source": [
    "# gerar_presenca_alunos('A',alunos_sala_a).to_csv('alunos_sala_a.csv',index=False)"
   ]
  },
  {
   "cell_type": "code",
   "execution_count": 16,
   "metadata": {},
   "outputs": [],
   "source": [
    "# gerar_presenca_alunos('B',alunos_sala_b).to_csv('alunos_sala_b.csv',index=False)"
   ]
  },
  {
   "cell_type": "code",
   "execution_count": null,
   "metadata": {},
   "outputs": [],
   "source": []
  }
 ],
 "metadata": {
  "kernelspec": {
   "display_name": "base",
   "language": "python",
   "name": "python3"
  },
  "language_info": {
   "codemirror_mode": {
    "name": "ipython",
    "version": 3
   },
   "file_extension": ".py",
   "mimetype": "text/x-python",
   "name": "python",
   "nbconvert_exporter": "python",
   "pygments_lexer": "ipython3",
   "version": "3.11.7"
  }
 },
 "nbformat": 4,
 "nbformat_minor": 2
}
