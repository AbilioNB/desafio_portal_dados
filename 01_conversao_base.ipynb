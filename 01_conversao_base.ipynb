{
 "cells": [
  {
   "cell_type": "code",
   "execution_count": 137,
   "metadata": {},
   "outputs": [],
   "source": [
    "import pandas as pd"
   ]
  },
  {
   "cell_type": "code",
   "execution_count": 154,
   "metadata": {},
   "outputs": [],
   "source": [
    "def lista_colunas_unicas(dicionario_dataframes):\n",
    "    colunas_unicas = set()\n",
    "    for df_nome, df in dicionario_dataframes.items():\n",
    "        colunas_unicas.update([col.replace('.1', '').strip() for col in df.columns])\n",
    "    colunas_unicas.discard(\"ESTUDANTE\")\n",
    "    return list(colunas_unicas)"
   ]
  },
  {
   "cell_type": "code",
   "execution_count": 156,
   "metadata": {},
   "outputs": [],
   "source": [
    "def extrair_abas_excel(nome_arquivo):\n",
    "    xls = pd.ExcelFile(nome_arquivo)\n",
    "    abas_dict = {}\n",
    "    for aba_nome in xls.sheet_names:\n",
    "        df = xls.parse(aba_nome)\n",
    "        abas_dict[aba_nome] = df\n",
    "    return abas_dict\n",
    "def calcular_participacao_aluno(df, flag_atraso):\n",
    "    df_alvo = pd.DataFrame(df.iloc[:, 1:16]==flag_atraso)\n",
    "    return df_alvo.replace({True: 1, False: 0}).sum(axis=1)\n",
    "def calcular_participacao_materia(df, flag_atraso):\n",
    "    df_alvo = pd.DataFrame(df.iloc[0:, 1:]==flag_atraso).sort_index(axis=1)\n",
    "    return df_alvo.replace({True: 1, False: 0}).sum(axis=0).to_dict()\n",
    "    "
   ]
  },
  {
   "cell_type": "markdown",
   "metadata": {},
   "source": [
    "# Extração e processamento da frequencia das turmas "
   ]
  },
  {
   "cell_type": "code",
   "execution_count": 139,
   "metadata": {},
   "outputs": [],
   "source": [
    "path_frequencia_marco_2023 = 'data/raw/Frequencia_Marco_2023.xlsx'  \n",
    "turmas_frequencia_marco_2023 = extrair_abas_excel(path_frequencia_marco_2023)\n",
    " "
   ]
  },
  {
   "cell_type": "code",
   "execution_count": 140,
   "metadata": {},
   "outputs": [
    {
     "data": {
      "text/plain": [
       "dict_keys(['Sala A - Semana 1', 'Sala B - Semana 1', 'Sala A - Semana 2', ' Sala B - Semana 2', ' Sala A - Semana 3', 'Sala B - Semana 3'])"
      ]
     },
     "execution_count": 140,
     "metadata": {},
     "output_type": "execute_result"
    }
   ],
   "source": [
    "turmas_frequencia_marco_2023.keys()"
   ]
  },
  {
   "cell_type": "code",
   "execution_count": 155,
   "metadata": {},
   "outputs": [
    {
     "data": {
      "text/plain": [
       "['LITERATURA',\n",
       " 'INTERTEXTO',\n",
       " 'MATEMÁTICA',\n",
       " 'HISTÓRIA',\n",
       " 'FÍSICA',\n",
       " 'REDAÇÃO',\n",
       " 'FILOSOFIA',\n",
       " 'BIOLOGIA',\n",
       " 'QUÍMICA',\n",
       " 'GEOGRAFIA',\n",
       " 'PORTUGUÊS',\n",
       " 'SOCIOLOGIA']"
      ]
     },
     "execution_count": 155,
     "metadata": {},
     "output_type": "execute_result"
    }
   ],
   "source": [
    "lista_colunas_unicas(turmas_frequencia_marco_2023)"
   ]
  },
  {
   "cell_type": "markdown",
   "metadata": {},
   "source": [
    "## Gerando panorama das disciplinas"
   ]
  },
  {
   "cell_type": "markdown",
   "metadata": {},
   "source": [
    "### Buscando todas as disciplinas do mês"
   ]
  },
  {
   "cell_type": "code",
   "execution_count": null,
   "metadata": {},
   "outputs": [],
   "source": []
  },
  {
   "cell_type": "code",
   "execution_count": null,
   "metadata": {},
   "outputs": [],
   "source": []
  },
  {
   "cell_type": "code",
   "execution_count": 141,
   "metadata": {},
   "outputs": [],
   "source": [
    "# pre_turmas = turmas_frequencia_marco_2023['Sala A - Semana 2'].drop(turmas_frequencia_marco_2023['Sala A - Semana 2'].columns[0], axis=1)\n",
    "# base_situacao_disciplinas = pd.DataFrame(pre_turmas.sort_index(axis=1).T.reset_index()['index'])"
   ]
  },
  {
   "cell_type": "code",
   "execution_count": null,
   "metadata": {},
   "outputs": [],
   "source": []
  },
  {
   "cell_type": "code",
   "execution_count": null,
   "metadata": {},
   "outputs": [],
   "source": []
  },
  {
   "cell_type": "code",
   "execution_count": 157,
   "metadata": {},
   "outputs": [
    {
     "data": {
      "text/plain": [
       "{'BIOLOGIA': 1,\n",
       " 'FÍSICA': 17,\n",
       " 'GEOGRAFIA ': 5,\n",
       " 'HISTÓRIA': 0,\n",
       " 'INTERTEXTO': 2,\n",
       " 'LITERATURA': 0,\n",
       " 'MATEMÁTICA': 10,\n",
       " 'MATEMÁTICA.1': 8,\n",
       " 'PORTUGUÊS': 17,\n",
       " 'QUÍMICA': 0,\n",
       " 'REDAÇÃO': 6,\n",
       " 'SOCIOLOGIA': 0}"
      ]
     },
     "execution_count": 157,
     "metadata": {},
     "output_type": "execute_result"
    }
   ],
   "source": [
    "calcular_participacao_materia(turmas_frequencia_marco_2023['Sala A - Semana 1'],'0*')"
   ]
  },
  {
   "cell_type": "code",
   "execution_count": 143,
   "metadata": {},
   "outputs": [
    {
     "data": {
      "text/plain": [
       "{'BIOLOGIA': 0,\n",
       " 'FÍSICA': 6,\n",
       " 'GEOGRAFIA ': 9,\n",
       " 'HISTÓRIA': 0,\n",
       " 'INTERTEXTO': 0,\n",
       " 'LITERATURA': 1,\n",
       " 'MATEMÁTICA': 5,\n",
       " 'MATEMÁTICA.1': 9,\n",
       " 'PORTUGUÊS': 1,\n",
       " 'QUÍMICA': 0,\n",
       " 'REDAÇÃO': 11,\n",
       " 'SOCIOLOGIA': 0}"
      ]
     },
     "execution_count": 143,
     "metadata": {},
     "output_type": "execute_result"
    }
   ],
   "source": [
    "calcular_participacao_materia(turmas_frequencia_marco_2023['Sala A - Semana 1'],'0**').to_dict()"
   ]
  },
  {
   "cell_type": "code",
   "execution_count": 144,
   "metadata": {},
   "outputs": [
    {
     "data": {
      "text/plain": [
       "{'BIOLOGIA': 11,\n",
       " 'FÍSICA': 10,\n",
       " 'GEOGRAFIA ': 12,\n",
       " 'HISTÓRIA': 6,\n",
       " 'INTERTEXTO': 21,\n",
       " 'LITERATURA': 9,\n",
       " 'MATEMÁTICA': 8,\n",
       " 'MATEMÁTICA.1': 17,\n",
       " 'PORTUGUÊS': 10,\n",
       " 'QUÍMICA': 10,\n",
       " 'REDAÇÃO': 21,\n",
       " 'SOCIOLOGIA': 4}"
      ]
     },
     "execution_count": 144,
     "metadata": {},
     "output_type": "execute_result"
    }
   ],
   "source": [
    "calcular_participacao_materia(turmas_frequencia_marco_2023['Sala A - Semana 1'],1).to_dict()"
   ]
  },
  {
   "cell_type": "code",
   "execution_count": 145,
   "metadata": {},
   "outputs": [
    {
     "data": {
      "text/plain": [
       "{'BIOLOGIA': 61,\n",
       " 'FÍSICA': 40,\n",
       " 'GEOGRAFIA ': 47,\n",
       " 'HISTÓRIA': 67,\n",
       " 'INTERTEXTO': 50,\n",
       " 'LITERATURA': 63,\n",
       " 'MATEMÁTICA': 50,\n",
       " 'MATEMÁTICA.1': 39,\n",
       " 'PORTUGUÊS': 38,\n",
       " 'QUÍMICA': 63,\n",
       " 'REDAÇÃO': 35,\n",
       " 'SOCIOLOGIA': 69}"
      ]
     },
     "execution_count": 145,
     "metadata": {},
     "output_type": "execute_result"
    }
   ],
   "source": [
    "calcular_participacao_materia(turmas_frequencia_marco_2023['Sala A - Semana 1'],0).to_dict()"
   ]
  },
  {
   "cell_type": "code",
   "execution_count": null,
   "metadata": {},
   "outputs": [],
   "source": []
  }
 ],
 "metadata": {
  "kernelspec": {
   "display_name": "base",
   "language": "python",
   "name": "python3"
  },
  "language_info": {
   "codemirror_mode": {
    "name": "ipython",
    "version": 3
   },
   "file_extension": ".py",
   "mimetype": "text/x-python",
   "name": "python",
   "nbconvert_exporter": "python",
   "pygments_lexer": "ipython3",
   "version": "3.11.7"
  }
 },
 "nbformat": 4,
 "nbformat_minor": 2
}
